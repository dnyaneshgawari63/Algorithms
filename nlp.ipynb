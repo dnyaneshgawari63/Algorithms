# pre processing 
# tokenization
# lemmitization
# stopword removal 
