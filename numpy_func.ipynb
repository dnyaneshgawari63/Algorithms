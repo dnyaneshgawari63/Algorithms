import numpy as np

def add(x, y):
  return x + y

result = np.frompyfunc(add, 2, 1) # here 2 means 2 input arrays we can give as arguments and out put 1
result([12,3,4],[1,2,3])
