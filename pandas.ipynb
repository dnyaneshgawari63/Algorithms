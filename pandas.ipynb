{
 "cells": [
  {
   "cell_type": "code",
   "execution_count": null,
   "metadata": {},
   "outputs": [],
   "source": [
    "# we are trying to do EDA on wine data and data is in \"wine.data\" file\n",
    "# here its not in csv format, so .data files usually dont have column names\n",
    "# hence we will be assigning coulumn names to wine.data file for our df dataframe table\n",
    "\n",
    "import pandas as pd\n",
    "\n",
    "coulumn_names = [\n",
    "      \"Wine_owner\", \"Alcohol\", \"Malic acid\", \"Ash\", \"Alcalinity_of_ash\", \"Magnesium\", \"Total_phenols\", \"Flavanoids\", \"Nonflavanoid_phenols\", \"Proanthocyanins\", \"Color_intensity\", \"Hue\", \"OD280/OD315_of_diluted_wines\", \"Proline\"\n",
    "                ]\n",
    "\n",
    "df = pd.read_csv(\"wine.data\", names= coulumn_names)\n",
    "\n",
    "df"
   ]
  },
  {
   "cell_type": "code",
   "execution_count": null,
   "metadata": {},
   "outputs": [],
   "source": [
    "df.drop_duplicates(inplace=True) # it will remove all duplcates from dataframe \n",
    "df.dropna()\n"
   ]
  }
 ],
 "metadata": {
  "language_info": {
   "name": "python"
  }
 },
 "nbformat": 4,
 "nbformat_minor": 2
}
